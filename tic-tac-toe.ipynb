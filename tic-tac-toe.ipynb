{
 "cells": [
  {
   "cell_type": "code",
   "execution_count": 1,
   "metadata": {
    "collapsed": false
   },
   "outputs": [
    {
     "data": {
      "text/plain": [
       "'3.5.2 |Anaconda 4.2.0 (64-bit)| (default, Jul  5 2016, 11:41:13) [MSC v.1900 64 bit (AMD64)]'"
      ]
     },
     "execution_count": 1,
     "metadata": {},
     "output_type": "execute_result"
    }
   ],
   "source": [
    "import sys\n",
    "sys.version"
   ]
  },
  {
   "cell_type": "code",
   "execution_count": 2,
   "metadata": {
    "collapsed": true
   },
   "outputs": [],
   "source": [
    "from __future__ import print_function\n",
    "from IPython.display import clear_output"
   ]
  },
  {
   "cell_type": "code",
   "execution_count": 5,
   "metadata": {
    "collapsed": false
   },
   "outputs": [],
   "source": [
    "def play_input(player):\n",
    "    global I,J,game\n",
    "    i = int(input(\"Select Row: \"))\n",
    "    j = int(input(\"Select Column \"))\n",
    "    game[i][j] = player\n",
    "    print (\"Current Board is: \", game)"
   ]
  },
  {
   "cell_type": "code",
   "execution_count": 2,
   "metadata": {
    "collapsed": false
   },
   "outputs": [],
   "source": [
    "def eval_win():\n",
    "    for i in range(3):\n",
    "        if all(val == \"A\" for val in game[i]):\n",
    "            winner = \"A\"\n",
    "            break\n",
    "        elif all(val == \"B\" for val in game[i]):\n",
    "            winner = \"B\"\n",
    "            break\n",
    "        else:\n",
    "            winner = \"NA\"\n",
    "    if winner == \"NA\":\n",
    "        for j in range(3):\n",
    "            if all(val == \"A\" for val in [item[j] for item in game]):\n",
    "                winner = \"A\"\n",
    "                break\n",
    "            elif all(val == \"B\" for val in [item[j] for item in game]):\n",
    "                winner = \"B\"\n",
    "                break\n",
    "            else:\n",
    "                winner = \"NA\"\n",
    "                continue\n",
    "    if winner == \"NA\":\n",
    "        if game[0][0] == game[1][1] == game[2][2] == \"A\":\n",
    "            winner = \"A\"\n",
    "        elif game[0][0] == game[1][1] == game[2][2] == \"B\":\n",
    "            winner = \"B\"\n",
    "        else:\n",
    "            winner = \"NA\"\n",
    "    return winner\n",
    "             "
   ]
  },
  {
   "cell_type": "code",
   "execution_count": 9,
   "metadata": {
    "collapsed": true
   },
   "outputs": [],
   "source": [
    "def game_win(winner):\n",
    "    print (\"\\n\")\n",
    "    print (\"\\n\")\n",
    "    if winner == \"NA\":\n",
    "        print (\"Draw Game!\")\n",
    "    else:\n",
    "        print (\"The winnder is: \",winner)"
   ]
  },
  {
   "cell_type": "code",
   "execution_count": 22,
   "metadata": {
    "collapsed": false
   },
   "outputs": [
    {
     "name": "stdout",
     "output_type": "stream",
     "text": [
      "Available Rows Are:  [0, 1, 2]\n",
      "Select Row: 1\n",
      "Available Columns Are:  [0, 1, 2]\n",
      "Select Column 1\n",
      "Current Board is:  [[0, 0, 0], [0, 'A', 0], [0, 0, 0]]\n"
     ]
    }
   ],
   "source": [
    "play_input(\"A\")"
   ]
  },
  {
   "cell_type": "code",
   "execution_count": 23,
   "metadata": {
    "collapsed": false,
    "scrolled": false
   },
   "outputs": [
    {
     "name": "stdout",
     "output_type": "stream",
     "text": [
      "Available Rows Are:  [0, 2]\n",
      "Select Row: 0\n",
      "Available Columns Are:  [0, 2]\n",
      "Select Column 2\n",
      "Current Board is:  [[0, 0, 'B'], [0, 'A', 0], [0, 0, 0]]\n"
     ]
    }
   ],
   "source": [
    "play_input(\"B\")"
   ]
  },
  {
   "cell_type": "code",
   "execution_count": 6,
   "metadata": {
    "collapsed": false
   },
   "outputs": [
    {
     "name": "stdout",
     "output_type": "stream",
     "text": [
      "A Player Selection:\n",
      "Select Row: 0\n",
      "Select Column 0\n",
      "Current Board is:  [['A', 0, 0], [0, 0, 0], [0, 0, 0]]\n",
      "B Player Selection:\n",
      "Select Row: 1\n",
      "Select Column 1\n",
      "Current Board is:  [['A', 0, 0], [0, 'B', 0], [0, 0, 0]]\n",
      "A Player Selection:\n",
      "Select Row: 0\n",
      "Select Column 1\n",
      "Current Board is:  [['A', 'A', 0], [0, 'B', 0], [0, 0, 0]]\n",
      "B Player Selection:\n",
      "Select Row: 2\n",
      "Select Column 1\n",
      "Current Board is:  [['A', 'A', 0], [0, 'B', 0], [0, 'B', 0]]\n",
      "A Player Selection:\n",
      "Select Row: 0\n",
      "Select Column 2\n",
      "Current Board is:  [['A', 'A', 'A'], [0, 'B', 0], [0, 'B', 0]]\n",
      "The winnder is:  A\n"
     ]
    }
   ],
   "source": [
    "#Define an empty list to store players selections\n",
    "game = [[0,0,0] for _ in range(3)]\n",
    "\n",
    "winner = \"NA\"\n",
    "\n",
    "for t in range(1,6):\n",
    "    print (\"A Player Selection:\")\n",
    "    play_input(\"A\")\n",
    "    if t >= 3:\n",
    "        winner = eval_win()\n",
    "    if winner != \"NA\":\n",
    "        break\n",
    "    if t == 5:\n",
    "        break\n",
    "    print (\"B Player Selection:\")\n",
    "    play_input(\"B\")\n",
    "    if t >= 3:\n",
    "        winner = eval_win()\n",
    "    if winner != \"NA\":\n",
    "        break\n",
    "\n",
    "game_win(winner)"
   ]
  }
 ],
 "metadata": {
  "kernelspec": {
   "display_name": "Python [conda root]",
   "language": "python",
   "name": "conda-root-py"
  },
  "language_info": {
   "codemirror_mode": {
    "name": "ipython",
    "version": 3
   },
   "file_extension": ".py",
   "mimetype": "text/x-python",
   "name": "python",
   "nbconvert_exporter": "python",
   "pygments_lexer": "ipython3",
   "version": "3.5.2"
  }
 },
 "nbformat": 4,
 "nbformat_minor": 1
}
