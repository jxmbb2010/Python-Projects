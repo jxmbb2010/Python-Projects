{
 "cells": [
  {
   "cell_type": "markdown",
   "metadata": {},
   "source": [
    "# Develop the Black Jack Game Tool"
   ]
  },
  {
   "cell_type": "code",
   "execution_count": 17,
   "metadata": {
    "collapsed": true
   },
   "outputs": [],
   "source": [
    "import random\n",
    "from functools import reduce\n",
    "import collections\n",
    "from IPython.display import clear_output"
   ]
  },
  {
   "cell_type": "code",
   "execution_count": 18,
   "metadata": {
    "collapsed": false
   },
   "outputs": [],
   "source": [
    "### Define Player Profile\n",
    "class Player(object):\n",
    "    \n",
    "    def __init__(self,name,balance):\n",
    "        self.name = name\n",
    "        self.balance = balance\n",
    "        \n",
    "    def deck_bal(self,res,bet):\n",
    "        if res == \"win\":\n",
    "            self.balance += bet\n",
    "        else:\n",
    "            self.balance -= bet\n",
    "      \n",
    "    def __str__(self):\n",
    "        return \"Player \" + self.name + \" Current Balance is: \" + str(self.balance)"
   ]
  },
  {
   "cell_type": "code",
   "execution_count": 19,
   "metadata": {
    "collapsed": true
   },
   "outputs": [],
   "source": [
    "### Define Cards\n",
    "class Cards(object):\n",
    "    # class attributes\n",
    "    fullcard = [2,3,4,5,6,7,8,9,10,\"A\",\"J\",\"Q\",\"K\"] * 4\n",
    "    \n",
    "    def __init__(self,hands):\n",
    "        self.hands = hands\n",
    "    \n",
    "    def shuffle(self):\n",
    "        alldecks = Cards.fullcard * self.hands\n",
    "        random.shuffle(alldecks)\n",
    "        return alldecks"
   ]
  },
  {
   "cell_type": "code",
   "execution_count": 20,
   "metadata": {
    "collapsed": true
   },
   "outputs": [],
   "source": [
    "# Compute the total points of the cards at hand\n",
    "def tot(cards):\n",
    "    tot1,tot2 = 0,0\n",
    "    for card_i in cards:\n",
    "        if card_i in [\"J\",\"Q\",\"K\"]:\n",
    "            tot1 += 10\n",
    "            tot2 += 10\n",
    "        elif card_i == \"A\":\n",
    "            tot1 += 1\n",
    "            tot2 += 11\n",
    "        else:\n",
    "            tot1 += card_i\n",
    "            tot2 += card_i\n",
    "\n",
    "    return [tot1,tot2]"
   ]
  },
  {
   "cell_type": "code",
   "execution_count": 21,
   "metadata": {
    "collapsed": false
   },
   "outputs": [],
   "source": [
    "### Distribute first hand of cards to players and compute the total points\n",
    "def card_init(player):\n",
    "    global shoecard\n",
    "    card = collections.OrderedDict()\n",
    "    for name in player:\n",
    "        card[name] = {}\n",
    "        card[name]['cards'] = shoecard[0:2]\n",
    "        card[name]['points'] = tot(card[name]['cards'])\n",
    "        del shoecard[0:2]\n",
    "    return card"
   ]
  },
  {
   "cell_type": "code",
   "execution_count": 46,
   "metadata": {
    "collapsed": true
   },
   "outputs": [],
   "source": [
    "# player = {\"name\":(tot,bal)}\n",
    "def judge(playercard):\n",
    "    players = list(playercard.keys())\n",
    "    players.pop()\n",
    "    for player_i in players:\n",
    "        if playercard[\"Dealer\"]['FNL_points'] > 21:\n",
    "            print (\"{x} Win the Game!\".format(x = player_i))\n",
    "        elif playercard[player_i]['FNL_points'] <= 21 and playercard[\"Dealer\"]['FNL_points'] <= 21 and \\\n",
    "        playercard[player_i]['FNL_points'] >= playercard[\"Dealer\"]['FNL_points']:\n",
    "            print (\"{x} Win the Game!\".format(x = player_i))\n",
    "        else:\n",
    "            print (\"{x} Loss the Game!\".format(x = player_i))\n",
    "    \n",
    "    print (\"This Round is Over!\")\n"
   ]
  },
  {
   "cell_type": "code",
   "execution_count": 23,
   "metadata": {
    "collapsed": true
   },
   "outputs": [],
   "source": [
    "def fnl_point(tots):\n",
    "    if tots[0] == tots[1]:\n",
    "        final_point = tots[0]\n",
    "    elif max(tots) <= 21:\n",
    "        final_point = max(tots)\n",
    "    else:\n",
    "        final_point = min(tots)\n",
    "    \n",
    "    return final_point"
   ]
  },
  {
   "cell_type": "code",
   "execution_count": 15,
   "metadata": {
    "collapsed": true
   },
   "outputs": [],
   "source": [
    "def card_distr(playercard):\n",
    "    global shoecard\n",
    "    for player_i,points_i in playercard.items():\n",
    "        print (\"{x} current hand is: {y}\".format(x = player_i,y = points_i))\n",
    "    for player_i in playercard.keys():\n",
    "        print (\"It is {x} turn to make the call\".format(x=player_i))\n",
    "        while True:\n",
    "            call = input(\"Please type in your call: \")\n",
    "            if call == 'sr':\n",
    "                playercard[player_i]['FNL_points'] = 22\n",
    "                print (\"{x} final hand is: {y}\".format(x = player_i, y = playercard[player_i]['FNL_points']))\n",
    "                break\n",
    "            elif call == 'st':\n",
    "                playercard[player_i]['FNL_points'] = fnl_point(playercard[player_i]['points'])\n",
    "                print (\"{x} final hand is: {y}\".format(x = player_i, y = playercard[player_i]['FNL_points']))\n",
    "                break\n",
    "            elif call == \"ht\":\n",
    "                playercard[player_i]['cards'].append(shoecard[0])\n",
    "                playercard[player_i]['points'] = tot(playercard[player_i]['cards'])\n",
    "                print (\"{x} current hand is: {y}\".format(x = player_i, y = playercard[player_i]['points']))\n",
    "                continue\n",
    "            else:\n",
    "                print (\"Please type in a valid call: \")\n",
    "                continue\n",
    "    clear_output()\n",
    "    for player_i in playercard.keys():\n",
    "        print (\"{x} current hand is: {y}\".format(x = player_i,y = playercard[player_i]['FNL_points']))\n",
    "   \n",
    "    return playercard"
   ]
  },
  {
   "cell_type": "code",
   "execution_count": 24,
   "metadata": {
    "collapsed": true
   },
   "outputs": [],
   "source": [
    "playerA = Player(\"Ken\",1000)\n",
    "playerB = Player(\"Bin\",1000)"
   ]
  },
  {
   "cell_type": "code",
   "execution_count": 25,
   "metadata": {
    "collapsed": false,
    "scrolled": true
   },
   "outputs": [],
   "source": [
    "card_orig = Cards(2)\n",
    "shoecard = card_orig.shuffle()"
   ]
  },
  {
   "cell_type": "code",
   "execution_count": 26,
   "metadata": {
    "collapsed": false
   },
   "outputs": [
    {
     "data": {
      "text/plain": [
       "['K', 6, 'J', 'Q', 7, 5, 5, 7, 3, 10, 'A', 5, 6, 8, 'A', 3, 10, 2, 8, 4]"
      ]
     },
     "execution_count": 26,
     "metadata": {},
     "output_type": "execute_result"
    }
   ],
   "source": [
    "shoecard[0:20]"
   ]
  },
  {
   "cell_type": "code",
   "execution_count": 27,
   "metadata": {
    "collapsed": false
   },
   "outputs": [
    {
     "data": {
      "text/plain": [
       "['Ken', 'Bin', 'Dealer']"
      ]
     },
     "execution_count": 27,
     "metadata": {},
     "output_type": "execute_result"
    }
   ],
   "source": [
    "player_all = [playerA.name,playerB.name,\"Dealer\"]\n",
    "player_all"
   ]
  },
  {
   "cell_type": "code",
   "execution_count": 28,
   "metadata": {
    "collapsed": false
   },
   "outputs": [],
   "source": [
    "card = card_init(player = player_all)"
   ]
  },
  {
   "cell_type": "code",
   "execution_count": 29,
   "metadata": {
    "collapsed": false
   },
   "outputs": [
    {
     "data": {
      "text/plain": [
       "OrderedDict([('Ken', {'cards': ['K', 6], 'points': [16, 16]}),\n",
       "             ('Bin', {'cards': ['J', 'Q'], 'points': [20, 20]}),\n",
       "             ('Dealer', {'cards': [7, 5], 'points': [12, 12]})])"
      ]
     },
     "execution_count": 29,
     "metadata": {},
     "output_type": "execute_result"
    }
   ],
   "source": [
    "card"
   ]
  },
  {
   "cell_type": "code",
   "execution_count": 30,
   "metadata": {
    "collapsed": false,
    "scrolled": false
   },
   "outputs": [
    {
     "name": "stdout",
     "output_type": "stream",
     "text": [
      "Ken current hand is: 21\n",
      "Bin current hand is: 20\n",
      "Dealer current hand is: 22\n"
     ]
    }
   ],
   "source": [
    "upd2 = card_distr(card)"
   ]
  },
  {
   "cell_type": "code",
   "execution_count": 31,
   "metadata": {
    "collapsed": false,
    "scrolled": true
   },
   "outputs": [
    {
     "data": {
      "text/plain": [
       "OrderedDict([('Ken',\n",
       "              {'FNL_points': 21, 'cards': ['K', 6, 5], 'points': [21, 21]}),\n",
       "             ('Bin',\n",
       "              {'FNL_points': 20, 'cards': ['J', 'Q'], 'points': [20, 20]}),\n",
       "             ('Dealer',\n",
       "              {'FNL_points': 22, 'cards': [7, 5, 5, 5], 'points': [22, 22]})])"
      ]
     },
     "execution_count": 31,
     "metadata": {},
     "output_type": "execute_result"
    }
   ],
   "source": [
    "upd2"
   ]
  },
  {
   "cell_type": "code",
   "execution_count": 47,
   "metadata": {
    "collapsed": false,
    "scrolled": false
   },
   "outputs": [
    {
     "name": "stdout",
     "output_type": "stream",
     "text": [
      "Ken Win the Game!\n",
      "Bin Win the Game!\n",
      "This Round is Over!\n"
     ]
    }
   ],
   "source": [
    "judge(upd2)"
   ]
  }
 ],
 "metadata": {
  "kernelspec": {
   "display_name": "Python [conda root]",
   "language": "python",
   "name": "conda-root-py"
  },
  "language_info": {
   "codemirror_mode": {
    "name": "ipython",
    "version": 3
   },
   "file_extension": ".py",
   "mimetype": "text/x-python",
   "name": "python",
   "nbconvert_exporter": "python",
   "pygments_lexer": "ipython3",
   "version": "3.5.2"
  }
 },
 "nbformat": 4,
 "nbformat_minor": 1
}
