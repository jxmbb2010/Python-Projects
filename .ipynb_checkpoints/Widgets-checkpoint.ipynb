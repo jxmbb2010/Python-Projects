{
 "cells": [
  {
   "cell_type": "markdown",
   "metadata": {},
   "source": [
    "## Widget in blackjack"
   ]
  },
  {
   "cell_type": "code",
   "execution_count": 1,
   "metadata": {
    "collapsed": true
   },
   "outputs": [],
   "source": [
    "from ipywidgets import interact, interactive, fixed\n",
    "import ipywidgets as widgets"
   ]
  },
  {
   "cell_type": "code",
   "execution_count": 2,
   "metadata": {
    "collapsed": true
   },
   "outputs": [],
   "source": [
    "import random\n",
    "from functools import reduce\n",
    "import collections\n",
    "from IPython.display import clear_output"
   ]
  },
  {
   "cell_type": "code",
   "execution_count": 3,
   "metadata": {
    "collapsed": true
   },
   "outputs": [],
   "source": [
    "def call(ord = \"stand\"):\n",
    "    return ord"
   ]
  },
  {
   "cell_type": "code",
   "execution_count": 6,
   "metadata": {
    "collapsed": false
   },
   "outputs": [
    {
     "data": {
      "text/plain": [
       "'stand'"
      ]
     },
     "metadata": {},
     "output_type": "display_data"
    }
   ],
   "source": [
    "interact(call);"
   ]
  },
  {
   "cell_type": "code",
   "execution_count": 11,
   "metadata": {
    "collapsed": false,
    "scrolled": true
   },
   "outputs": [
    {
     "data": {
      "text/plain": [
       "1000"
      ]
     },
     "metadata": {},
     "output_type": "display_data"
    }
   ],
   "source": [
    "@interact(ord = (\"stand\",\"hit\"),bet = 5,bal = fixed(1000))\n",
    "def hand_call(ord,bet,bal):\n",
    "    if ord == \"stand\":\n",
    "        pass\n",
    "    if ord == \"hit\":\n",
    "        bal += bet\n",
    "    return bal"
   ]
  },
  {
   "cell_type": "code",
   "execution_count": 12,
   "metadata": {
    "collapsed": true
   },
   "outputs": [],
   "source": [
    "widgets.Dropdown(\n",
    "    options=['1', '2', '3'],\n",
    "    value='2',\n",
    "    description='Number:',\n",
    ")"
   ]
  },
  {
   "cell_type": "code",
   "execution_count": 13,
   "metadata": {
    "collapsed": true
   },
   "outputs": [],
   "source": [
    "from IPython.display import display"
   ]
  },
  {
   "cell_type": "code",
   "execution_count": 14,
   "metadata": {
    "collapsed": true
   },
   "outputs": [],
   "source": [
    "widgets.RadioButtons(\n",
    "    description='Pizza topping:',\n",
    "    options=['pepperoni', 'pineapple', 'anchovies'],\n",
    ")"
   ]
  },
  {
   "cell_type": "code",
   "execution_count": 15,
   "metadata": {
    "collapsed": true
   },
   "outputs": [],
   "source": [
    "widgets.ToggleButtons(\n",
    "    description='Speed:',\n",
    "    options=['Slow', 'Regular', 'Fast'],\n",
    ")"
   ]
  },
  {
   "cell_type": "code",
   "execution_count": 16,
   "metadata": {
    "collapsed": true
   },
   "outputs": [],
   "source": [
    "w = widgets.SelectMultiple(\n",
    "    description=\"Fruits\",\n",
    "    options=['Apples', 'Oranges', 'Pears'])\n",
    "\n",
    "display(w)"
   ]
  },
  {
   "cell_type": "code",
   "execution_count": 17,
   "metadata": {
    "collapsed": false,
    "scrolled": true
   },
   "outputs": [
    {
     "name": "stdout",
     "output_type": "stream",
     "text": [
      "Button clicked.\n"
     ]
    }
   ],
   "source": [
    "button = widgets.Button(description=\"Click Me!\")\n",
    "display(button)\n",
    "\n",
    "def on_button_clicked(b):\n",
    "    print(\"Button clicked.\")\n",
    "\n",
    "button.on_click(on_button_clicked)"
   ]
  },
  {
   "cell_type": "code",
   "execution_count": 20,
   "metadata": {
    "collapsed": false
   },
   "outputs": [
    {
     "name": "stderr",
     "output_type": "stream",
     "text": [
      "C:\\Users\\xjiang\\AppData\\Local\\Continuum\\Anaconda3\\lib\\site-packages\\ipykernel\\__main__.py:7: DeprecationWarning: on_trait_change is deprecated in traitlets 4.1: use observe instead\n"
     ]
    }
   ],
   "source": [
    "int_range = widgets.IntSlider()\n",
    "display(int_range)\n",
    "\n",
    "def on_value_change(name, value):\n",
    "    print(value)\n",
    "\n",
    "int_range.on_trait_change(on_value_change, 'value')"
   ]
  },
  {
   "cell_type": "code",
   "execution_count": 21,
   "metadata": {
    "collapsed": true
   },
   "outputs": [],
   "source": [
    "import traitlets"
   ]
  },
  {
   "cell_type": "code",
   "execution_count": 22,
   "metadata": {
    "collapsed": false,
    "scrolled": true
   },
   "outputs": [
    {
     "name": "stderr",
     "output_type": "stream",
     "text": [
      "C:\\Users\\xjiang\\AppData\\Local\\Continuum\\Anaconda3\\lib\\site-packages\\ipywidgets\\widgets\\widget_string.py:55: UserWarning: The Latex widget is deprecated. Use Label instead\n",
      "  warn('The Latex widget is deprecated. Use Label instead')\n"
     ]
    }
   ],
   "source": [
    "# Create Caption\n",
    "caption = widgets.Latex(value = 'The values of slider1 and slider2 are synchronized')\n",
    "\n",
    "# Create IntSlider\n",
    "slider1 = widgets.IntSlider(description='Slider 1')\n",
    "slider2 =  widgets.IntSlider(description='Slider 2')\n",
    "\n",
    "# Use trailets to link\n",
    "l = traitlets.link((slider1, 'value'), (slider2, 'value'))\n",
    "\n",
    "# Display!\n",
    "display(caption, slider1, slider2)"
   ]
  },
  {
   "cell_type": "code",
   "execution_count": 23,
   "metadata": {
    "collapsed": false,
    "scrolled": true
   },
   "outputs": [
    {
     "name": "stderr",
     "output_type": "stream",
     "text": [
      "C:\\Users\\xjiang\\AppData\\Local\\Continuum\\Anaconda3\\lib\\site-packages\\ipywidgets\\widgets\\widget_string.py:55: UserWarning: The Latex widget is deprecated. Use Label instead\n",
      "  warn('The Latex widget is deprecated. Use Label instead')\n"
     ]
    }
   ],
   "source": [
    "# Create Caption\n",
    "caption = widgets.Latex(value = 'Changes in source values are reflected in target1')\n",
    "\n",
    "# Create Sliders\n",
    "source = widgets.IntSlider(description='Source')\n",
    "target1 = widgets.IntSlider(description='Target 1')\n",
    "\n",
    "# Use dlink\n",
    "dl = traitlets.dlink((source, 'value'), (target1, 'value'))\n",
    "display(caption, source, target1)"
   ]
  },
  {
   "cell_type": "code",
   "execution_count": 24,
   "metadata": {
    "collapsed": true
   },
   "outputs": [],
   "source": [
    "l.unlink()"
   ]
  },
  {
   "cell_type": "code",
   "execution_count": 25,
   "metadata": {
    "collapsed": true
   },
   "outputs": [],
   "source": [
    "dl.unlink()"
   ]
  },
  {
   "cell_type": "code",
   "execution_count": 26,
   "metadata": {
    "collapsed": false
   },
   "outputs": [
    {
     "name": "stderr",
     "output_type": "stream",
     "text": [
      "C:\\Users\\xjiang\\AppData\\Local\\Continuum\\Anaconda3\\lib\\site-packages\\ipywidgets\\widgets\\widget_string.py:55: UserWarning: The Latex widget is deprecated. Use Label instead\n",
      "  warn('The Latex widget is deprecated. Use Label instead')\n"
     ]
    }
   ],
   "source": [
    "# NO LAG VERSION\n",
    "caption = widgets.Latex(value = 'The values of range1 and range2 are synchronized')\n",
    "\n",
    "range1 = widgets.IntSlider(description='Range 1')\n",
    "range2 =  widgets.IntSlider(description='Range 2')\n",
    "\n",
    "l = widgets.jslink((range1, 'value'), (range2, 'value'))\n",
    "display(caption, range1, range2)"
   ]
  }
 ],
 "metadata": {
  "kernelspec": {
   "display_name": "Python [conda root]",
   "language": "python",
   "name": "conda-root-py"
  },
  "language_info": {
   "codemirror_mode": {
    "name": "ipython",
    "version": 3
   },
   "file_extension": ".py",
   "mimetype": "text/x-python",
   "name": "python",
   "nbconvert_exporter": "python",
   "pygments_lexer": "ipython3",
   "version": "3.5.2"
  },
  "widgets": {
   "state": {
    "0415d15686774c15a1c5ca8c1d55dd87": {
     "views": [
      {
       "cell_index": 15
      }
     ]
    },
    "04d38534a680491d8aafe52dac73aa34": {
     "views": [
      {
       "cell_index": 12
      }
     ]
    },
    "08bfc8a18cb5446ea7fe154ed02a1de5": {
     "views": [
      {
       "cell_index": 14
      }
     ]
    },
    "0bbd7a1d32624ba281c8171cbebc91bd": {
     "views": [
      {
       "cell_index": 18
      }
     ]
    },
    "1697ec9d6ac44af6b354b7f4dd9b632a": {
     "views": [
      {
       "cell_index": 18
      }
     ]
    },
    "2bff4f17e35b42ae8a1fc33279ea26b6": {
     "views": [
      {
       "cell_index": 8
      }
     ]
    },
    "2e3cd8daa018475b97f17b0212eba231": {
     "views": [
      {
       "cell_index": 14
      }
     ]
    },
    "4fa2b6d7a6b54762a7367e0b96f468ce": {
     "views": [
      {
       "cell_index": 6
      }
     ]
    },
    "726c00ba071a436f96adf969be91966e": {
     "views": [
      {
       "cell_index": 9
      }
     ]
    },
    "7a41c5a1b7044ba1a058a90a8240c352": {
     "views": [
      {
       "cell_index": 5
      }
     ]
    },
    "7ddcb41dbceb4364aa8430685c61ed5c": {
     "views": [
      {
       "cell_index": 5
      }
     ]
    },
    "95e6f3ecd7c64016b9f1cf7c64cf200b": {
     "views": [
      {
       "cell_index": 15
      }
     ]
    },
    "b00b319c7d0b40569c236a225c422e6a": {
     "views": [
      {
       "cell_index": 14
      }
     ]
    },
    "ce72831a53a446069a4c6e82f562ccaa": {
     "views": [
      {
       "cell_index": 11
      }
     ]
    },
    "d4d72af589724734bb5e6ef0ad4931e4": {
     "views": [
      {
       "cell_index": 15
      }
     ]
    },
    "dfd35489ca744c7588d4c5ab890b1752": {
     "views": [
      {
       "cell_index": 18
      }
     ]
    },
    "fce981c1b7654d01992925431e529303": {
     "views": [
      {
       "cell_index": 10
      }
     ]
    }
   },
   "version": "1.2.0"
  }
 },
 "nbformat": 4,
 "nbformat_minor": 1
}
