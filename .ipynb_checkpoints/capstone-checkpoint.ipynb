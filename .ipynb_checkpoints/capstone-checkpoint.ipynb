{
 "cells": [
  {
   "cell_type": "markdown",
   "metadata": {},
   "source": [
    "### Find PI to the Nth Digit \n",
    "- Enter a number and have the program generate PI up to that many decimal places. Keep a limit to how far the program will go."
   ]
  },
  {
   "cell_type": "code",
   "execution_count": 5,
   "metadata": {
    "collapsed": true
   },
   "outputs": [],
   "source": [
    "import math"
   ]
  },
  {
   "cell_type": "code",
   "execution_count": 6,
   "metadata": {
    "collapsed": false
   },
   "outputs": [],
   "source": [
    "def outputPI(n):\n",
    "    for i in range(1,n+1):\n",
    "        print (\"PI with {x} decimal is {y}\".format(x = i, y = round(math.pi,i)))"
   ]
  },
  {
   "cell_type": "code",
   "execution_count": 7,
   "metadata": {
    "collapsed": false
   },
   "outputs": [
    {
     "name": "stdout",
     "output_type": "stream",
     "text": [
      "PI with 1 decimal is 3.1\n",
      "PI with 2 decimal is 3.14\n",
      "PI with 3 decimal is 3.142\n",
      "PI with 4 decimal is 3.1416\n",
      "PI with 5 decimal is 3.14159\n"
     ]
    }
   ],
   "source": [
    "outputPI(5)"
   ]
  },
  {
   "cell_type": "markdown",
   "metadata": {},
   "source": [
    "### Fibonacci Sequence\n",
    "- Enter a number and have the program generate the Fibonacci sequence to that number or to the Nth number."
   ]
  },
  {
   "cell_type": "code",
   "execution_count": 12,
   "metadata": {
    "collapsed": true
   },
   "outputs": [],
   "source": [
    "def fibonacci(n):\n",
    "    a = 0\n",
    "    b = 1\n",
    "    fib = []\n",
    "    for i in range(n):\n",
    "        fib.append(a)\n",
    "        a,b = b,a+b\n",
    "    return fib\n",
    "        "
   ]
  },
  {
   "cell_type": "code",
   "execution_count": 13,
   "metadata": {
    "collapsed": false
   },
   "outputs": [
    {
     "data": {
      "text/plain": [
       "[0, 1, 1, 2, 3]"
      ]
     },
     "execution_count": 13,
     "metadata": {},
     "output_type": "execute_result"
    }
   ],
   "source": [
    "fibonacci(5)"
   ]
  },
  {
   "cell_type": "markdown",
   "metadata": {},
   "source": [
    "### Prime Factorization \n",
    "- Have the user enter a number and find all Prime Factors (if there are any) and display them."
   ]
  },
  {
   "cell_type": "code",
   "execution_count": 21,
   "metadata": {
    "collapsed": true
   },
   "outputs": [],
   "source": [
    "def find_prime(n):\n",
    "    pf = []\n",
    "    for i in range(2,n):\n",
    "        if n % i == 0:\n",
    "            pf.append(i)\n",
    "        else:\n",
    "            pass\n",
    "    return pf"
   ]
  },
  {
   "cell_type": "code",
   "execution_count": 22,
   "metadata": {
    "collapsed": false
   },
   "outputs": [
    {
     "data": {
      "text/plain": [
       "[3, 5]"
      ]
     },
     "execution_count": 22,
     "metadata": {},
     "output_type": "execute_result"
    }
   ],
   "source": [
    "find_prime(15)"
   ]
  },
  {
   "cell_type": "code",
   "execution_count": 23,
   "metadata": {
    "collapsed": false
   },
   "outputs": [
    {
     "data": {
      "text/plain": [
       "[]"
      ]
     },
     "execution_count": 23,
     "metadata": {},
     "output_type": "execute_result"
    }
   ],
   "source": [
    "find_prime(2)"
   ]
  },
  {
   "cell_type": "code",
   "execution_count": 24,
   "metadata": {
    "collapsed": false
   },
   "outputs": [
    {
     "data": {
      "text/plain": [
       "[2]"
      ]
     },
     "execution_count": 24,
     "metadata": {},
     "output_type": "execute_result"
    }
   ],
   "source": [
    "find_prime(4)"
   ]
  },
  {
   "cell_type": "markdown",
   "metadata": {},
   "source": [
    "### Next Prime Number \n",
    "- Have the program find prime numbers until the user chooses to stop asking for the next one."
   ]
  },
  {
   "cell_type": "code",
   "execution_count": 26,
   "metadata": {
    "collapsed": true
   },
   "outputs": [],
   "source": [
    "def find_prime_iter(n):\n",
    "    for i in range(2,n):\n",
    "        if n % i == 0:\n",
    "            yield i"
   ]
  },
  {
   "cell_type": "code",
   "execution_count": 29,
   "metadata": {
    "collapsed": false
   },
   "outputs": [],
   "source": [
    "pfact = find_prime_iter(130)"
   ]
  },
  {
   "cell_type": "code",
   "execution_count": 30,
   "metadata": {
    "collapsed": false
   },
   "outputs": [
    {
     "data": {
      "text/plain": [
       "2"
      ]
     },
     "execution_count": 30,
     "metadata": {},
     "output_type": "execute_result"
    }
   ],
   "source": [
    "next(pfact)"
   ]
  },
  {
   "cell_type": "code",
   "execution_count": 31,
   "metadata": {
    "collapsed": false
   },
   "outputs": [
    {
     "data": {
      "text/plain": [
       "5"
      ]
     },
     "execution_count": 31,
     "metadata": {},
     "output_type": "execute_result"
    }
   ],
   "source": [
    "next(pfact)"
   ]
  },
  {
   "cell_type": "code",
   "execution_count": 32,
   "metadata": {
    "collapsed": false
   },
   "outputs": [
    {
     "data": {
      "text/plain": [
       "10"
      ]
     },
     "execution_count": 32,
     "metadata": {},
     "output_type": "execute_result"
    }
   ],
   "source": [
    "next(pfact)"
   ]
  },
  {
   "cell_type": "markdown",
   "metadata": {},
   "source": [
    "### Mortgage Calculator \n",
    "- Calculate the monthly payments of a fixed term mortgage over given Nth terms at a given interest rate. \n",
    "Also figure out how long it will take the user to pay back the loan. For added complexity, add an option for users to select the compounding interval (Monthly, Weekly, Daily, Continually)."
   ]
  },
  {
   "cell_type": "code",
   "execution_count": 39,
   "metadata": {
    "collapsed": false
   },
   "outputs": [],
   "source": [
    "def mort_cal(loan, term, intrate, compound):\n",
    "    # term in years\n",
    "    if compound == \"continually\":\n",
    "        tot = loan * math.exp(intrate*term)\n",
    "    elif compound == \"monthly\":\n",
    "        tot = loan * (1+intrate/12)**(term*12)\n",
    "    elif compound == \"annually\":\n",
    "        tot = loan * (1+intrate)**term\n",
    "    elif compound == \"semiannally\":\n",
    "        tot = loan * (1+intrate/2)**(term*2)\n",
    "    else:\n",
    "        print (\"the compound option is not available\")\n",
    "        \n",
    "        \n",
    "    return tot"
   ]
  },
  {
   "cell_type": "code",
   "execution_count": 43,
   "metadata": {
    "collapsed": false,
    "scrolled": true
   },
   "outputs": [
    {
     "data": {
      "text/plain": [
       "1151250.5110176993"
      ]
     },
     "execution_count": 43,
     "metadata": {},
     "output_type": "execute_result"
    }
   ],
   "source": [
    "mort_cont = mort_cal(360000,30,0.03875,\"continually\")\n",
    "mort_cont"
   ]
  },
  {
   "cell_type": "markdown",
   "metadata": {},
   "source": [
    "### Change Calculation\n",
    "-The user enters a cost and then the amount of money given. The program will figure out the change and the number of quarters, dimes, nickels, pennies needed for the change."
   ]
  },
  {
   "cell_type": "code",
   "execution_count": 56,
   "metadata": {
    "collapsed": true
   },
   "outputs": [],
   "source": [
    "def change_cal(cost, pay):\n",
    "    chge = pay - cost\n",
    "    dollar = math.floor(chge)\n",
    "    remain = (chge - dollar) * 100\n",
    "    quarter = math.floor(remain/25)\n",
    "    dime = math.floor((remain % 25) / 10)\n",
    "    nickel = math.floor((remain % 25 % 10) / 5)\n",
    "    penny = round(remain % 25 % 10 % 5)\n",
    "    print (\"the change is {d1} dollars, {q} quarters, {d2} dimes, {n} nickels and {p} pennies\".format(\n",
    "            d1 = dollar, q = quarter,d2 = dime, n = nickel, p = penny))\n",
    "    "
   ]
  },
  {
   "cell_type": "code",
   "execution_count": 57,
   "metadata": {
    "collapsed": false,
    "scrolled": false
   },
   "outputs": [
    {
     "name": "stdout",
     "output_type": "stream",
     "text": [
      "the change is 5 dollars, 1 quarters, 1 dimes, 1 nickels and 4 pennies\n"
     ]
    }
   ],
   "source": [
    "change_cal(4.56,10)"
   ]
  },
  {
   "cell_type": "markdown",
   "metadata": {},
   "source": [
    "### Binary to Decimal and Back Converter \n",
    "- Develop a converter to convert a decimal number to binary or a binary number to its decimal equivalent."
   ]
  },
  {
   "cell_type": "code",
   "execution_count": 65,
   "metadata": {
    "collapsed": true
   },
   "outputs": [],
   "source": [
    "from decimal import *\n",
    "def bin_dec(val,kind):\n",
    "    if kind == \"binary\":\n",
    "        new_val = int(val,2)\n",
    "    else:\n",
    "        new_val = bin(val)\n",
    "    return new_val"
   ]
  },
  {
   "cell_type": "code",
   "execution_count": 67,
   "metadata": {
    "collapsed": false
   },
   "outputs": [
    {
     "data": {
      "text/plain": [
       "25"
      ]
     },
     "execution_count": 67,
     "metadata": {},
     "output_type": "execute_result"
    }
   ],
   "source": [
    "bin_dec(\"11001\",\"binary\") "
   ]
  },
  {
   "cell_type": "code",
   "execution_count": 68,
   "metadata": {
    "collapsed": false
   },
   "outputs": [
    {
     "data": {
      "text/plain": [
       "'0b11001'"
      ]
     },
     "execution_count": 68,
     "metadata": {},
     "output_type": "execute_result"
    }
   ],
   "source": [
    "bin_dec(25,\"decimal\")"
   ]
  },
  {
   "cell_type": "markdown",
   "metadata": {},
   "source": [
    "### Alarm Clock\n",
    "- A simple clock where it plays a sound after X number of minutes/seconds or at a particular time."
   ]
  },
  {
   "cell_type": "code",
   "execution_count": 104,
   "metadata": {
    "collapsed": true
   },
   "outputs": [],
   "source": [
    "import datetime\n",
    "from ipywidgets import interact, interactive, fixed\n",
    "import ipywidgets as widgets\n",
    "from IPython.display import display"
   ]
  },
  {
   "cell_type": "code",
   "execution_count": 89,
   "metadata": {
    "collapsed": false
   },
   "outputs": [],
   "source": [
    "class Alarmclock(object):\n",
    "      \n",
    "    def __init__(self):\n",
    "        self.time = datetime.datetime.now()\n",
    "        self.clock = {\"year\":self.time.year,\"month\":self.time.month,\"day\":self.time.day,\n",
    "                        \"hour\":self.time.hour,\"minutes\":self.time.minute}\n",
    "        \n",
    "    def set_fixtime(self,year,month,day,hour,minute):\n",
    "        self.clock.update({\"year\":year})\n",
    "        self.clock.update({\"month\":month})\n",
    "        self.clock.update({\"day\":day})\n",
    "        self.clock.update({\"hour\":hour})\n",
    "        self.clock.update({\"minute\":minute})\n",
    "        \n",
    "    def set_ellapse(self,hour):\n",
    "        new_time = self.time + datetime.timedelta(hours=hour)\n",
    "        self.clock = {\"year\":new_time.year,\"month\":new_time.month,\"day\":new_time.day,\n",
    "                        \"hour\":new_time.hour,\"minutes\":new_time.minute}"
   ]
  },
  {
   "cell_type": "code",
   "execution_count": 98,
   "metadata": {
    "collapsed": false
   },
   "outputs": [
    {
     "data": {
      "text/plain": [
       "{'day': 1, 'hour': 1, 'minute': 1, 'minutes': 30, 'month': 1, 'year': 2017}"
      ]
     },
     "metadata": {},
     "output_type": "display_data"
    }
   ],
   "source": [
    "@interact(year = widgets.Dropdown(description = \"Year\",options = [2017,2018,2019]),\n",
    "          month = widgets.ToggleButtons(description = \"Month\",options = list(range(1,13))),\n",
    "          day = widgets.Select(description = \"Day\",options = list(range(1,32))),\n",
    "          hour = widgets.IntSlider(description = \"Hour\",min = 1, max = 23),\n",
    "          minute = widgets.IntSlider(description = \"Minute\",min = 1, max = 59))\n",
    "\n",
    "def fixtimeset(year,month,day,hour,minute):\n",
    "    t1 = Alarmclock()\n",
    "    t1.set_fixtime(year,month,day,hour,minute)\n",
    "    return t1.clock"
   ]
  },
  {
   "cell_type": "code",
   "execution_count": 100,
   "metadata": {
    "collapsed": false
   },
   "outputs": [],
   "source": [
    "alarm1 = Alarmclock()"
   ]
  },
  {
   "cell_type": "code",
   "execution_count": 109,
   "metadata": {
    "collapsed": false
   },
   "outputs": [],
   "source": [
    "interact(alarm1.set_fixtime,year = widgets.Dropdown(description = \"Year\",options = [2017,2018,2019]),\n",
    "          month = widgets.ToggleButtons(description = \"Month\",options = list(range(1,13))),\n",
    "          day = widgets.Select(description = \"Day\",options = list(range(1,32))),\n",
    "          hour = widgets.IntSlider(description = \"Hour\",min = 1, max = 23),\n",
    "          minute = widgets.IntSlider(description = \"Minute\",min = 1, max = 59));"
   ]
  },
  {
   "cell_type": "code",
   "execution_count": 107,
   "metadata": {
    "collapsed": false
   },
   "outputs": [
    {
     "data": {
      "text/plain": [
       "{'day': 4, 'hour': 5, 'minute': 34, 'minutes': 37, 'month': 5, 'year': 2017}"
      ]
     },
     "execution_count": 107,
     "metadata": {},
     "output_type": "execute_result"
    }
   ],
   "source": [
    "alarm1.clock"
   ]
  },
  {
   "cell_type": "markdown",
   "metadata": {},
   "source": [
    "### Factorial Finder \n",
    "- The Factorial of a positive integer, n, is defined as the product of the sequence n, n-1, n-2, ...1 and the factorial of zero,\n",
    "0, is defined as being 1. Solve this using both loops and recursion."
   ]
  },
  {
   "cell_type": "code",
   "execution_count": 111,
   "metadata": {
    "collapsed": true
   },
   "outputs": [],
   "source": [
    "def factorial1(n):\n",
    "    if n == 1:\n",
    "        return 1\n",
    "    else:\n",
    "        return n*factorial(n-1)"
   ]
  },
  {
   "cell_type": "code",
   "execution_count": 114,
   "metadata": {
    "collapsed": false
   },
   "outputs": [
    {
     "name": "stdout",
     "output_type": "stream",
     "text": [
      "1000000 loops, best of 3: 735 ns per loop\n"
     ]
    }
   ],
   "source": [
    "%timeit(factorial1(4))"
   ]
  },
  {
   "cell_type": "code",
   "execution_count": 117,
   "metadata": {
    "collapsed": false
   },
   "outputs": [],
   "source": [
    "def factorial2(n):\n",
    "    fact = 1\n",
    "    for i in range(1,n+1):\n",
    "        fact *= i\n",
    "    return fact"
   ]
  },
  {
   "cell_type": "code",
   "execution_count": 119,
   "metadata": {
    "collapsed": false
   },
   "outputs": [
    {
     "name": "stdout",
     "output_type": "stream",
     "text": [
      "1000000 loops, best of 3: 769 ns per loop\n"
     ]
    }
   ],
   "source": [
    "%timeit(factorial2(4))"
   ]
  },
  {
   "cell_type": "markdown",
   "metadata": {},
   "source": [
    "### Collatz Conjecture \n",
    "- Start with a number n > 1. Find the number of steps it takes to reach one using the following process: If n is even, divide it by 2. If n is odd, multiply it by 3 and add 1."
   ]
  },
  {
   "cell_type": "code",
   "execution_count": 121,
   "metadata": {
    "collapsed": false
   },
   "outputs": [],
   "source": [
    "def collatz(n):\n",
    "    i = 0\n",
    "    while n > 1:\n",
    "        i += 1\n",
    "        if n % 2 == 0:\n",
    "            n = n/2\n",
    "        else:\n",
    "            n = n*3 + 1\n",
    "    print (i)"
   ]
  },
  {
   "cell_type": "code",
   "execution_count": 122,
   "metadata": {
    "collapsed": false
   },
   "outputs": [
    {
     "name": "stdout",
     "output_type": "stream",
     "text": [
      "2\n"
     ]
    }
   ],
   "source": [
    "collatz(4)"
   ]
  },
  {
   "cell_type": "code",
   "execution_count": 123,
   "metadata": {
    "collapsed": false
   },
   "outputs": [
    {
     "name": "stdout",
     "output_type": "stream",
     "text": [
      "6\n"
     ]
    }
   ],
   "source": [
    "collatz(10)"
   ]
  },
  {
   "cell_type": "markdown",
   "metadata": {},
   "source": [
    "### Closest pair problem \n",
    "- The closest pair of points problem or closest pair problem is a problem of computational geometry: given n points in metric space, find a pair of points with the smallest distance between them."
   ]
  },
  {
   "cell_type": "code",
   "execution_count": 1,
   "metadata": {
    "collapsed": true
   },
   "outputs": [],
   "source": [
    "def closest1(points):\n",
    "    dist = math.inf\n",
    "    for key1,p1 in points.items():\n",
    "        for key2,p2 in points.items():\n",
    "            if key2 != key1:\n",
    "                dist_min = math.sqrt((p2[0]-p1[0])**2 + (p2[1]-p1[1])**2)\n",
    "                if dist_min < dist:\n",
    "                    dist = dist_min\n",
    "                    pair = key1 + \"-\" + key2\n",
    "    print (\"the shortest points are {} and the distance is {}\".format(pair,dist))\n",
    "                "
   ]
  },
  {
   "cell_type": "code",
   "execution_count": 2,
   "metadata": {
    "collapsed": true
   },
   "outputs": [],
   "source": [
    "points = {\"aa\":(0,0),\"bb\":(1,1),\"cc\":(3,3)}"
   ]
  },
  {
   "cell_type": "code",
   "execution_count": 6,
   "metadata": {
    "collapsed": false
   },
   "outputs": [
    {
     "name": "stdout",
     "output_type": "stream",
     "text": [
      "the shortest points are bb-aa and the distance is 1.4142135623730951\n"
     ]
    }
   ],
   "source": [
    "closest1(points)"
   ]
  },
  {
   "cell_type": "code",
   "execution_count": 7,
   "metadata": {
    "collapsed": false,
    "scrolled": true
   },
   "outputs": [],
   "source": [
    "def closest2(points):\n",
    "    dist = math.inf\n",
    "    for i in range(len(points)):\n",
    "        for j in range(i+1,len(points)):\n",
    "            dist_new = math.sqrt((points[i][0]-points[j][0])**2 + (points[i][1]-points[j][1])**2)\n",
    "            if dist_new < dist:\n",
    "                dist = dist_new\n",
    "                shortpoint = (i,j)\n",
    "    return shortpoint,dist            "
   ]
  },
  {
   "cell_type": "code",
   "execution_count": 8,
   "metadata": {
    "collapsed": false
   },
   "outputs": [],
   "source": [
    "point_list = [(0,0),(1,1),(3,3)]"
   ]
  },
  {
   "cell_type": "code",
   "execution_count": 9,
   "metadata": {
    "collapsed": false,
    "scrolled": true
   },
   "outputs": [
    {
     "data": {
      "text/plain": [
       "((0, 1), 1.4142135623730951)"
      ]
     },
     "execution_count": 9,
     "metadata": {},
     "output_type": "execute_result"
    }
   ],
   "source": [
    "closest2(point_list)"
   ]
  },
  {
   "cell_type": "code",
   "execution_count": 10,
   "metadata": {
    "collapsed": true
   },
   "outputs": [],
   "source": [
    "from itertools import combinations\n",
    "def closest3(points):\n",
    "    dist = math.inf\n",
    "    for key1,key2 in combinations(points,2):\n",
    "            dist_new = math.sqrt((points[key1][0]-points[key2][0])**2 + (points[key1][1]-points[key2][1])**2)\n",
    "            if dist_new < dist:\n",
    "                dist = dist_new\n",
    "                shortpoint = (key1,key2)\n",
    "    return shortpoint,dist    "
   ]
  },
  {
   "cell_type": "code",
   "execution_count": 11,
   "metadata": {
    "collapsed": true
   },
   "outputs": [],
   "source": [
    "points = {\"aa\":(0,0),\"bb\":(1,1),\"cc\":(3,3)}"
   ]
  },
  {
   "cell_type": "code",
   "execution_count": 13,
   "metadata": {
    "collapsed": false
   },
   "outputs": [
    {
     "name": "stdout",
     "output_type": "stream",
     "text": [
      "100000 loops, best of 3: 5.88 µs per loop\n"
     ]
    }
   ],
   "source": [
    "%timeit(closest2(point_list))"
   ]
  },
  {
   "cell_type": "code",
   "execution_count": 14,
   "metadata": {
    "collapsed": false
   },
   "outputs": [
    {
     "name": "stdout",
     "output_type": "stream",
     "text": [
      "The slowest run took 4.53 times longer than the fastest. This could mean that an intermediate result is being cached.\n",
      "100000 loops, best of 3: 4.53 µs per loop\n"
     ]
    }
   ],
   "source": [
    "%timeit(closest3(points))"
   ]
  }
 ],
 "metadata": {
  "kernelspec": {
   "display_name": "Python [conda root]",
   "language": "python",
   "name": "conda-root-py"
  },
  "language_info": {
   "codemirror_mode": {
    "name": "ipython",
    "version": 3
   },
   "file_extension": ".py",
   "mimetype": "text/x-python",
   "name": "python",
   "nbconvert_exporter": "python",
   "pygments_lexer": "ipython3",
   "version": "3.5.2"
  },
  "widgets": {
   "state": {
    "1b1b7bc3ae26492194702f5ce0cf358c": {
     "views": [
      {
       "cell_index": 33
      }
     ]
    },
    "7c38a50fc5484f7698a43d49a2e77fe3": {
     "views": [
      {
       "cell_index": 31
      }
     ]
    }
   },
   "version": "1.2.0"
  }
 },
 "nbformat": 4,
 "nbformat_minor": 1
}
