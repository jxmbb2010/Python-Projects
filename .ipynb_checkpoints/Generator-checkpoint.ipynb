{
 "cells": [
  {
   "cell_type": "markdown",
   "metadata": {},
   "source": [
    "## Generators"
   ]
  },
  {
   "cell_type": "code",
   "execution_count": 5,
   "metadata": {
    "collapsed": false
   },
   "outputs": [],
   "source": [
    "def gensquare(N):\n",
    "    for i in range(N):\n",
    "        yield i**2"
   ]
  },
  {
   "cell_type": "code",
   "execution_count": 7,
   "metadata": {
    "collapsed": false
   },
   "outputs": [
    {
     "name": "stdout",
     "output_type": "stream",
     "text": [
      "0\n",
      "1\n",
      "4\n",
      "9\n",
      "16\n",
      "25\n",
      "36\n",
      "49\n",
      "64\n",
      "81\n"
     ]
    }
   ],
   "source": [
    "for x in gensquare(10):\n",
    "    print (x)"
   ]
  },
  {
   "cell_type": "code",
   "execution_count": 8,
   "metadata": {
    "collapsed": true
   },
   "outputs": [],
   "source": [
    "import random"
   ]
  },
  {
   "cell_type": "code",
   "execution_count": 9,
   "metadata": {
    "collapsed": true
   },
   "outputs": [],
   "source": [
    "def rand_num(low,high,n):\n",
    "    for i in range(n):\n",
    "        yield random.randint(low,high)"
   ]
  },
  {
   "cell_type": "code",
   "execution_count": 11,
   "metadata": {
    "collapsed": false,
    "scrolled": true
   },
   "outputs": [
    {
     "name": "stdout",
     "output_type": "stream",
     "text": [
      "8\n",
      "6\n",
      "2\n",
      "10\n",
      "6\n",
      "1\n",
      "5\n",
      "2\n",
      "9\n",
      "5\n",
      "6\n",
      "2\n"
     ]
    }
   ],
   "source": [
    "for num in rand_num(1,10,12):\n",
    "    print (num)"
   ]
  },
  {
   "cell_type": "code",
   "execution_count": 12,
   "metadata": {
    "collapsed": true
   },
   "outputs": [],
   "source": [
    "s = \"hello\""
   ]
  },
  {
   "cell_type": "code",
   "execution_count": 13,
   "metadata": {
    "collapsed": true
   },
   "outputs": [],
   "source": [
    "s_iter = iter(s)"
   ]
  },
  {
   "cell_type": "code",
   "execution_count": 14,
   "metadata": {
    "collapsed": false
   },
   "outputs": [
    {
     "data": {
      "text/plain": [
       "['h', 'e', 'l', 'l', 'o']"
      ]
     },
     "execution_count": 14,
     "metadata": {},
     "output_type": "execute_result"
    }
   ],
   "source": [
    "list(s_iter)"
   ]
  },
  {
   "cell_type": "code",
   "execution_count": 15,
   "metadata": {
    "collapsed": true
   },
   "outputs": [],
   "source": [
    "import itertools"
   ]
  },
  {
   "cell_type": "code",
   "execution_count": 22,
   "metadata": {
    "collapsed": false
   },
   "outputs": [
    {
     "data": {
      "text/plain": [
       "[('h', 'e', 'l', 'l', 'o'),\n",
       " ('h', 'e', 'l', 'o', 'l'),\n",
       " ('h', 'e', 'l', 'l', 'o'),\n",
       " ('h', 'e', 'l', 'o', 'l'),\n",
       " ('h', 'e', 'o', 'l', 'l'),\n",
       " ('h', 'e', 'o', 'l', 'l'),\n",
       " ('h', 'l', 'e', 'l', 'o'),\n",
       " ('h', 'l', 'e', 'o', 'l'),\n",
       " ('h', 'l', 'l', 'e', 'o'),\n",
       " ('h', 'l', 'l', 'o', 'e'),\n",
       " ('h', 'l', 'o', 'e', 'l'),\n",
       " ('h', 'l', 'o', 'l', 'e'),\n",
       " ('h', 'l', 'e', 'l', 'o'),\n",
       " ('h', 'l', 'e', 'o', 'l'),\n",
       " ('h', 'l', 'l', 'e', 'o'),\n",
       " ('h', 'l', 'l', 'o', 'e'),\n",
       " ('h', 'l', 'o', 'e', 'l'),\n",
       " ('h', 'l', 'o', 'l', 'e'),\n",
       " ('h', 'o', 'e', 'l', 'l'),\n",
       " ('h', 'o', 'e', 'l', 'l'),\n",
       " ('h', 'o', 'l', 'e', 'l'),\n",
       " ('h', 'o', 'l', 'l', 'e'),\n",
       " ('h', 'o', 'l', 'e', 'l'),\n",
       " ('h', 'o', 'l', 'l', 'e'),\n",
       " ('e', 'h', 'l', 'l', 'o'),\n",
       " ('e', 'h', 'l', 'o', 'l'),\n",
       " ('e', 'h', 'l', 'l', 'o'),\n",
       " ('e', 'h', 'l', 'o', 'l'),\n",
       " ('e', 'h', 'o', 'l', 'l'),\n",
       " ('e', 'h', 'o', 'l', 'l'),\n",
       " ('e', 'l', 'h', 'l', 'o'),\n",
       " ('e', 'l', 'h', 'o', 'l'),\n",
       " ('e', 'l', 'l', 'h', 'o'),\n",
       " ('e', 'l', 'l', 'o', 'h'),\n",
       " ('e', 'l', 'o', 'h', 'l'),\n",
       " ('e', 'l', 'o', 'l', 'h'),\n",
       " ('e', 'l', 'h', 'l', 'o'),\n",
       " ('e', 'l', 'h', 'o', 'l'),\n",
       " ('e', 'l', 'l', 'h', 'o'),\n",
       " ('e', 'l', 'l', 'o', 'h'),\n",
       " ('e', 'l', 'o', 'h', 'l'),\n",
       " ('e', 'l', 'o', 'l', 'h'),\n",
       " ('e', 'o', 'h', 'l', 'l'),\n",
       " ('e', 'o', 'h', 'l', 'l'),\n",
       " ('e', 'o', 'l', 'h', 'l'),\n",
       " ('e', 'o', 'l', 'l', 'h'),\n",
       " ('e', 'o', 'l', 'h', 'l'),\n",
       " ('e', 'o', 'l', 'l', 'h'),\n",
       " ('l', 'h', 'e', 'l', 'o'),\n",
       " ('l', 'h', 'e', 'o', 'l'),\n",
       " ('l', 'h', 'l', 'e', 'o'),\n",
       " ('l', 'h', 'l', 'o', 'e'),\n",
       " ('l', 'h', 'o', 'e', 'l'),\n",
       " ('l', 'h', 'o', 'l', 'e'),\n",
       " ('l', 'e', 'h', 'l', 'o'),\n",
       " ('l', 'e', 'h', 'o', 'l'),\n",
       " ('l', 'e', 'l', 'h', 'o'),\n",
       " ('l', 'e', 'l', 'o', 'h'),\n",
       " ('l', 'e', 'o', 'h', 'l'),\n",
       " ('l', 'e', 'o', 'l', 'h'),\n",
       " ('l', 'l', 'h', 'e', 'o'),\n",
       " ('l', 'l', 'h', 'o', 'e'),\n",
       " ('l', 'l', 'e', 'h', 'o'),\n",
       " ('l', 'l', 'e', 'o', 'h'),\n",
       " ('l', 'l', 'o', 'h', 'e'),\n",
       " ('l', 'l', 'o', 'e', 'h'),\n",
       " ('l', 'o', 'h', 'e', 'l'),\n",
       " ('l', 'o', 'h', 'l', 'e'),\n",
       " ('l', 'o', 'e', 'h', 'l'),\n",
       " ('l', 'o', 'e', 'l', 'h'),\n",
       " ('l', 'o', 'l', 'h', 'e'),\n",
       " ('l', 'o', 'l', 'e', 'h'),\n",
       " ('l', 'h', 'e', 'l', 'o'),\n",
       " ('l', 'h', 'e', 'o', 'l'),\n",
       " ('l', 'h', 'l', 'e', 'o'),\n",
       " ('l', 'h', 'l', 'o', 'e'),\n",
       " ('l', 'h', 'o', 'e', 'l'),\n",
       " ('l', 'h', 'o', 'l', 'e'),\n",
       " ('l', 'e', 'h', 'l', 'o'),\n",
       " ('l', 'e', 'h', 'o', 'l'),\n",
       " ('l', 'e', 'l', 'h', 'o'),\n",
       " ('l', 'e', 'l', 'o', 'h'),\n",
       " ('l', 'e', 'o', 'h', 'l'),\n",
       " ('l', 'e', 'o', 'l', 'h'),\n",
       " ('l', 'l', 'h', 'e', 'o'),\n",
       " ('l', 'l', 'h', 'o', 'e'),\n",
       " ('l', 'l', 'e', 'h', 'o'),\n",
       " ('l', 'l', 'e', 'o', 'h'),\n",
       " ('l', 'l', 'o', 'h', 'e'),\n",
       " ('l', 'l', 'o', 'e', 'h'),\n",
       " ('l', 'o', 'h', 'e', 'l'),\n",
       " ('l', 'o', 'h', 'l', 'e'),\n",
       " ('l', 'o', 'e', 'h', 'l'),\n",
       " ('l', 'o', 'e', 'l', 'h'),\n",
       " ('l', 'o', 'l', 'h', 'e'),\n",
       " ('l', 'o', 'l', 'e', 'h'),\n",
       " ('o', 'h', 'e', 'l', 'l'),\n",
       " ('o', 'h', 'e', 'l', 'l'),\n",
       " ('o', 'h', 'l', 'e', 'l'),\n",
       " ('o', 'h', 'l', 'l', 'e'),\n",
       " ('o', 'h', 'l', 'e', 'l'),\n",
       " ('o', 'h', 'l', 'l', 'e'),\n",
       " ('o', 'e', 'h', 'l', 'l'),\n",
       " ('o', 'e', 'h', 'l', 'l'),\n",
       " ('o', 'e', 'l', 'h', 'l'),\n",
       " ('o', 'e', 'l', 'l', 'h'),\n",
       " ('o', 'e', 'l', 'h', 'l'),\n",
       " ('o', 'e', 'l', 'l', 'h'),\n",
       " ('o', 'l', 'h', 'e', 'l'),\n",
       " ('o', 'l', 'h', 'l', 'e'),\n",
       " ('o', 'l', 'e', 'h', 'l'),\n",
       " ('o', 'l', 'e', 'l', 'h'),\n",
       " ('o', 'l', 'l', 'h', 'e'),\n",
       " ('o', 'l', 'l', 'e', 'h'),\n",
       " ('o', 'l', 'h', 'e', 'l'),\n",
       " ('o', 'l', 'h', 'l', 'e'),\n",
       " ('o', 'l', 'e', 'h', 'l'),\n",
       " ('o', 'l', 'e', 'l', 'h'),\n",
       " ('o', 'l', 'l', 'h', 'e'),\n",
       " ('o', 'l', 'l', 'e', 'h')]"
      ]
     },
     "execution_count": 22,
     "metadata": {},
     "output_type": "execute_result"
    }
   ],
   "source": [
    "list(itertools.permutations(s,5))"
   ]
  },
  {
   "cell_type": "code",
   "execution_count": 23,
   "metadata": {
    "collapsed": true
   },
   "outputs": [],
   "source": [
    "my_list = [1,2,3,4,5]\n",
    "gencomp = (x for x in my_list if x > 3)"
   ]
  },
  {
   "cell_type": "code",
   "execution_count": 24,
   "metadata": {
    "collapsed": false
   },
   "outputs": [
    {
     "data": {
      "text/plain": [
       "4"
      ]
     },
     "execution_count": 24,
     "metadata": {},
     "output_type": "execute_result"
    }
   ],
   "source": [
    "next(gencomp)"
   ]
  }
 ],
 "metadata": {
  "anaconda-cloud": {},
  "kernelspec": {
   "display_name": "Python [conda root]",
   "language": "python",
   "name": "conda-root-py"
  },
  "language_info": {
   "codemirror_mode": {
    "name": "ipython",
    "version": 3
   },
   "file_extension": ".py",
   "mimetype": "text/x-python",
   "name": "python",
   "nbconvert_exporter": "python",
   "pygments_lexer": "ipython3",
   "version": "3.5.2"
  }
 },
 "nbformat": 4,
 "nbformat_minor": 1
}
