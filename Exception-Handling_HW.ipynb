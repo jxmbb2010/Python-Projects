{
 "cells": [
  {
   "cell_type": "markdown",
   "metadata": {},
   "source": [
    "## Exception Handling Homework"
   ]
  },
  {
   "cell_type": "code",
   "execution_count": 1,
   "metadata": {
    "collapsed": false
   },
   "outputs": [
    {
     "name": "stdout",
     "output_type": "stream",
     "text": [
      "there is a type error\n",
      "alway excuate me!\n"
     ]
    }
   ],
   "source": [
    "try:\n",
    "    for i in [\"a\",\"b\",\"c\"]:\n",
    "        print (i ** 2)\n",
    "except TypeError:\n",
    "    print (\"there is a type error\")\n",
    "else:\n",
    "    print (\"Work Done\")\n",
    "finally:\n",
    "    print (\"alway excuate me!\")"
   ]
  },
  {
   "cell_type": "code",
   "execution_count": 2,
   "metadata": {
    "collapsed": false,
    "scrolled": false
   },
   "outputs": [
    {
     "name": "stdout",
     "output_type": "stream",
     "text": [
      "1\n",
      "4\n",
      "9\n",
      "Work Done\n",
      "alway excuate me!\n"
     ]
    }
   ],
   "source": [
    "try:\n",
    "    for i in [1,2,3]:\n",
    "        print (i ** 2)\n",
    "except TypeError:\n",
    "    print (\"there is a type error\")\n",
    "else:\n",
    "    print (\"Work Done\")\n",
    "finally:\n",
    "    print (\"alway excuate me!\")"
   ]
  },
  {
   "cell_type": "code",
   "execution_count": 4,
   "metadata": {
    "collapsed": false
   },
   "outputs": [
    {
     "name": "stdout",
     "output_type": "stream",
     "text": [
      "The denominator is Zero\n",
      "Always excutable\n"
     ]
    }
   ],
   "source": [
    "x,y = 5,0\n",
    "\n",
    "try:\n",
    "    z = x/y\n",
    "except ZeroDivisionError:\n",
    "    print (\"The denominator is Zero\")\n",
    "finally:\n",
    "    print (\"Always excutable\")"
   ]
  },
  {
   "cell_type": "code",
   "execution_count": 7,
   "metadata": {
    "collapsed": true
   },
   "outputs": [],
   "source": [
    "def askint():\n",
    "    i = 0\n",
    "    while True:\n",
    "        i += 1\n",
    "        try:\n",
    "            yourint = int(input(\"Please input an integer: \"))\n",
    "        except ValueError:\n",
    "            print (\"It is not an integer!\")\n",
    "            continue\n",
    "        else:\n",
    "            sqint = yourint ** 2\n",
    "            break\n",
    "        finally:\n",
    "            print (\"this is the %s try\" %i)\n",
    "            \n",
    "    print (\"The result is \", yourint ** 2)"
   ]
  },
  {
   "cell_type": "code",
   "execution_count": 8,
   "metadata": {
    "collapsed": false
   },
   "outputs": [
    {
     "name": "stdout",
     "output_type": "stream",
     "text": [
      "Please input an integer: A\n",
      "It is not an integer!\n",
      "this is the 1 try\n",
      "Please input an integer: B\n",
      "It is not an integer!\n",
      "this is the 2 try\n",
      "Please input an integer: 3\n",
      "this is the 3 try\n",
      "The result is  9\n"
     ]
    }
   ],
   "source": [
    "askint()"
   ]
  }
 ],
 "metadata": {
  "kernelspec": {
   "display_name": "Python [conda root]",
   "language": "python",
   "name": "conda-root-py"
  },
  "language_info": {
   "codemirror_mode": {
    "name": "ipython",
    "version": 3
   },
   "file_extension": ".py",
   "mimetype": "text/x-python",
   "name": "python",
   "nbconvert_exporter": "python",
   "pygments_lexer": "ipython3",
   "version": "3.5.2"
  }
 },
 "nbformat": 4,
 "nbformat_minor": 1
}
