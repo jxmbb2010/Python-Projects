{
 "cells": [
  {
   "cell_type": "code",
   "execution_count": 1,
   "metadata": {
    "collapsed": false
   },
   "outputs": [
    {
     "data": {
      "text/plain": [
       "'3.5.2 |Anaconda 4.2.0 (64-bit)| (default, Jul  5 2016, 11:41:13) [MSC v.1900 64 bit (AMD64)]'"
      ]
     },
     "execution_count": 1,
     "metadata": {},
     "output_type": "execute_result"
    }
   ],
   "source": [
    "import sys\n",
    "sys.version"
   ]
  },
  {
   "cell_type": "code",
   "execution_count": 1,
   "metadata": {
    "collapsed": true
   },
   "outputs": [],
   "source": [
    "from __future__ import print_function\n",
    "from IPython.display import clear_output\n",
    "import random"
   ]
  },
  {
   "cell_type": "code",
   "execution_count": 2,
   "metadata": {
    "collapsed": false
   },
   "outputs": [],
   "source": [
    "# Random decide which player is playing first\n",
    "def dice():\n",
    "    players = [\"A\",\"B\"]\n",
    "    players = players[::random.choice([-1,1])]\n",
    "    return players"
   ]
  },
  {
   "cell_type": "code",
   "execution_count": 23,
   "metadata": {
    "collapsed": false
   },
   "outputs": [],
   "source": [
    "def play_input(player):\n",
    "    global game\n",
    "    while True:\n",
    "        try:\n",
    "            i,j = [int(inp) for inp in input().split()]\n",
    "        except ValueError:\n",
    "            print(\"Sorry, please input a valid number.\")\n",
    "            continue\n",
    "        if game[i][j] == 0:\n",
    "            game[i][j] = player\n",
    "            break\n",
    "        else:\n",
    "            print(\"The space isn't empty!\")\n",
    "            continue"
   ]
  },
  {
   "cell_type": "code",
   "execution_count": 13,
   "metadata": {
    "collapsed": true
   },
   "outputs": [],
   "source": [
    "def display_board():    \n",
    "    clear_output()\n",
    "    print('   |   |')\n",
    "    print(' ' , game[0][0] , ' | ' , game[0][1] , ' | ' , game[0][2])\n",
    "    print('   |   |')\n",
    "    print('-----------')\n",
    "    print('   |   |')\n",
    "    print(' ' , game[1][0] , ' | ' , game[1][1] , ' | ' , game[1][2])\n",
    "    print('   |   |')\n",
    "    print('-----------')\n",
    "    print('   |   |')\n",
    "    print(' ' , game[2][0] , ' | ' , game[2][1] , ' | ' , game[2][2])\n",
    "    print('   |   |')"
   ]
  },
  {
   "cell_type": "code",
   "execution_count": 4,
   "metadata": {
    "collapsed": false
   },
   "outputs": [],
   "source": [
    "def eval_win():\n",
    "    for i in range(3):\n",
    "        if all(val == \"A\" for val in game[i]):\n",
    "            winner = \"A\"\n",
    "            break\n",
    "        elif all(val == \"B\" for val in game[i]):\n",
    "            winner = \"B\"\n",
    "            break\n",
    "        else:\n",
    "            winner = \"NA\"\n",
    "    if winner == \"NA\":\n",
    "        for j in range(3):\n",
    "            if all(val == \"A\" for val in [item[j] for item in game]):\n",
    "                winner = \"A\"\n",
    "                break\n",
    "            elif all(val == \"B\" for val in [item[j] for item in game]):\n",
    "                winner = \"B\"\n",
    "                break\n",
    "            else:\n",
    "                winner = \"NA\"\n",
    "                continue\n",
    "    if winner == \"NA\":\n",
    "        if game[0][0] == game[1][1] == game[2][2] == \"A\":\n",
    "            winner = \"A\"\n",
    "        elif game[0][0] == game[1][1] == game[2][2] == \"B\":\n",
    "            winner = \"B\"\n",
    "        else:\n",
    "            winner = \"NA\"\n",
    "    return winner\n",
    "             "
   ]
  },
  {
   "cell_type": "code",
   "execution_count": 5,
   "metadata": {
    "collapsed": true
   },
   "outputs": [],
   "source": [
    "def game_win(winner):\n",
    "    print (\"\\n\")\n",
    "    print (\"\\n\")\n",
    "    if winner == \"NA\":\n",
    "        print (\"Draw Game!\")\n",
    "    else:\n",
    "        print (\"The winnder is: \",winner)"
   ]
  },
  {
   "cell_type": "code",
   "execution_count": null,
   "metadata": {
    "collapsed": false,
    "scrolled": true
   },
   "outputs": [
    {
     "name": "stdout",
     "output_type": "stream",
     "text": [
      "   |   |\n",
      "  B  |  A  |  0\n",
      "   |   |\n",
      "-----------\n",
      "   |   |\n",
      "  0  |  A  |  0\n",
      "   |   |\n",
      "-----------\n",
      "   |   |\n",
      "  0  |  0  |  B\n",
      "   |   |\n",
      "First Player Selection:\n"
     ]
    }
   ],
   "source": [
    "#Define an empty list to store players selections\n",
    "game = [[0,0,0] for _ in range(3)]\n",
    "\n",
    "winner = \"NA\"\n",
    "\n",
    "players = dice()\n",
    "\n",
    "for t in range(1,6):\n",
    "    display_board()\n",
    "    print (\"First Player Selection:\")\n",
    "    play_input(players[0])\n",
    "    if t >= 3:\n",
    "        winner = eval_win()\n",
    "    if winner != \"NA\":\n",
    "        break\n",
    "    if t == 5:\n",
    "        break\n",
    "    print (\"Second Player Selection:\")\n",
    "    play_input(players[1])\n",
    "    if t >= 3:\n",
    "        winner = eval_win()\n",
    "    if winner != \"NA\":\n",
    "        break\n",
    "\n",
    "game_win(winner)"
   ]
  }
 ],
 "metadata": {
  "kernelspec": {
   "display_name": "Python [conda root]",
   "language": "python",
   "name": "conda-root-py"
  },
  "language_info": {
   "codemirror_mode": {
    "name": "ipython",
    "version": 3
   },
   "file_extension": ".py",
   "mimetype": "text/x-python",
   "name": "python",
   "nbconvert_exporter": "python",
   "pygments_lexer": "ipython3",
   "version": "3.5.2"
  }
 },
 "nbformat": 4,
 "nbformat_minor": 1
}
