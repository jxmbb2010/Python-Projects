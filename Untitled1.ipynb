{
 "cells": [
  {
   "cell_type": "code",
   "execution_count": 1,
   "metadata": {
    "collapsed": false
   },
   "outputs": [
    {
     "data": {
      "text/plain": [
       "'3.5.2 |Anaconda 4.2.0 (64-bit)| (default, Jul  5 2016, 11:41:13) [MSC v.1900 64 bit (AMD64)]'"
      ]
     },
     "execution_count": 1,
     "metadata": {},
     "output_type": "execute_result"
    }
   ],
   "source": [
    "import sys\n",
    "sys.version"
   ]
  },
  {
   "cell_type": "code",
   "execution_count": 2,
   "metadata": {
    "collapsed": true
   },
   "outputs": [],
   "source": [
    "from __future__ import print_function\n",
    "from IPython.display import clear_output"
   ]
  },
  {
   "cell_type": "code",
   "execution_count": 35,
   "metadata": {
    "collapsed": false
   },
   "outputs": [],
   "source": [
    "# Define an empty list to store players selections\n",
    "game = [[0,0,0] for _ in range(3)]\n",
    "I = list(range(3))\n",
    "J = list(range(3))"
   ]
  },
  {
   "cell_type": "code",
   "execution_count": 50,
   "metadata": {
    "collapsed": false
   },
   "outputs": [],
   "source": [
    "def play_input(player):\n",
    "    global I,J,game\n",
    "    print (\"Available Rows Are: \", I)\n",
    "    i = int(input(\"Select Row: \"))\n",
    "    print (\"Available Columns Are: \",J)\n",
    "    j = int(input(\"Select Column \"))\n",
    "    game[i][j] = player\n",
    "    I.remove(i)\n",
    "    J.remove(j)\n",
    "    print (\"Current Board is: \", game)"
   ]
  },
  {
   "cell_type": "code",
   "execution_count": 94,
   "metadata": {
    "collapsed": false
   },
   "outputs": [],
   "source": [
    "def eval_win():\n",
    "    for i in range(3):\n",
    "        if all(val == \"A\" for val in game[i]):\n",
    "            winner = \"A\"\n",
    "            break\n",
    "        elif all(val == \"B\" for val in game[i]):\n",
    "            winner = \"B\"\n",
    "            break\n",
    "        else:\n",
    "            winner = \"NA\"\n",
    "    if winner == \"NA\":\n",
    "        for j in range(3):\n",
    "            if all(val == \"A\" for val in [item[j] for item in game]):\n",
    "                winner = \"A\"\n",
    "                break\n",
    "            elif all(val == \"B\" for val in [item[j] for item in game]):\n",
    "                winner = \"B\"\n",
    "                break\n",
    "            else:\n",
    "                winner = \"NA\"\n",
    "                continue\n",
    "    if winner == \"NA\":\n",
    "        if game[0][0] == game[1][1] == game[2][2] == \"A\":\n",
    "            winner = \"A\"\n",
    "        elif game[0][0] == game[1][1] == game[2][2] == \"B\":\n",
    "            winner = \"B\"\n",
    "        else:\n",
    "            winner = \"NA\"\n",
    "    return winner\n",
    "             "
   ]
  },
  {
   "cell_type": "code",
   "execution_count": null,
   "metadata": {
    "collapsed": true
   },
   "outputs": [],
   "source": [
    "def "
   ]
  },
  {
   "cell_type": "code",
   "execution_count": 22,
   "metadata": {
    "collapsed": false
   },
   "outputs": [
    {
     "name": "stdout",
     "output_type": "stream",
     "text": [
      "Available Rows Are:  [0, 1, 2]\n",
      "Select Row: 1\n",
      "Available Columns Are:  [0, 1, 2]\n",
      "Select Column 1\n",
      "Current Board is:  [[0, 0, 0], [0, 'A', 0], [0, 0, 0]]\n"
     ]
    }
   ],
   "source": [
    "play_input(\"A\")"
   ]
  },
  {
   "cell_type": "code",
   "execution_count": 23,
   "metadata": {
    "collapsed": false,
    "scrolled": false
   },
   "outputs": [
    {
     "name": "stdout",
     "output_type": "stream",
     "text": [
      "Available Rows Are:  [0, 2]\n",
      "Select Row: 0\n",
      "Available Columns Are:  [0, 2]\n",
      "Select Column 2\n",
      "Current Board is:  [[0, 0, 'B'], [0, 'A', 0], [0, 0, 0]]\n"
     ]
    }
   ],
   "source": [
    "play_input(\"B\")"
   ]
  }
 ],
 "metadata": {
  "kernelspec": {
   "display_name": "Python [conda root]",
   "language": "python",
   "name": "conda-root-py"
  },
  "language_info": {
   "codemirror_mode": {
    "name": "ipython",
    "version": 3
   },
   "file_extension": ".py",
   "mimetype": "text/x-python",
   "name": "python",
   "nbconvert_exporter": "python",
   "pygments_lexer": "ipython3",
   "version": "3.5.2"
  }
 },
 "nbformat": 4,
 "nbformat_minor": 1
}
